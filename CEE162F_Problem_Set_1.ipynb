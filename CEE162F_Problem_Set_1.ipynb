{
  "nbformat": 4,
  "nbformat_minor": 0,
  "metadata": {
    "colab": {
      "name": "CEE162F Problem Set 1.ipynb",
      "provenance": [],
      "include_colab_link": true
    },
    "kernelspec": {
      "name": "python3",
      "display_name": "Python 3"
    }
  },
  "cells": [
    {
      "cell_type": "markdown",
      "metadata": {
        "id": "view-in-github",
        "colab_type": "text"
      },
      "source": [
        "<a href=\"https://colab.research.google.com/github/AvantiShri/cee162f/blob/master/CEE162F_Problem_Set_1.ipynb\" target=\"_parent\"><img src=\"https://colab.research.google.com/assets/colab-badge.svg\" alt=\"Open In Colab\"/></a>"
      ]
    },
    {
      "cell_type": "markdown",
      "metadata": {
        "id": "YVLQZARvRaNP",
        "colab_type": "text"
      },
      "source": [
        "In the cells below, I will define various utility functions needed for answering the problems set questions, such as the dispersion relation"
      ]
    },
    {
      "cell_type": "code",
      "metadata": {
        "id": "ze6cGE_vRe9G",
        "colab_type": "code",
        "colab": {}
      },
      "source": [
        "import numpy as np\n",
        "import scipy.optimize\n",
        "\n",
        "def dispersion_relation(omega, depth):\n",
        "    #Gravity (in m/s^2)\n",
        "    GRAVITY = 9.81;\n",
        "    #Initial guess is the deep water relation\n",
        "    k0 = (omega**2)/GRAVITY;\n",
        "    if (depth==None):\n",
        "        return k0\n",
        "    else:\n",
        "        def func_to_solve(x):\n",
        "            return omega**2 - GRAVITY*x*np.tanh(x*depth)\n",
        "        def fprime(x):\n",
        "            return -GRAVITY*np.tanh(x*depth)-GRAVITY*x*(1-(np.tanh(x*depth)**2))\n",
        "         \n",
        "    return scipy.optimize.fsolve(func=func_to_solve,\n",
        "                                 x0=k0,\n",
        "                                 fprime=fprime)\n",
        "  \n",
        "def wavelength_given_period(period, depth):\n",
        "    omega = 2*np.pi/period\n",
        "    wavenumber = dispersion_relation(omega=omega,\n",
        "                                     depth=depth)\n",
        "    wavelength = 2*np.pi/wavenumber\n",
        "    return wavelength"
      ],
      "execution_count": 0,
      "outputs": []
    },
    {
      "cell_type": "markdown",
      "metadata": {
        "id": "p5jsLKnfswyS",
        "colab_type": "text"
      },
      "source": [
        "Problem 1: A storm off the coast of Alaska generates waves that make it to Ocean Beach, San Francisco, roughly 5000 km away, that have a height of H=1 m and with periods ranging from a minimum of 5s to a maximum of 20 s."
      ]
    },
    {
      "cell_type": "markdown",
      "metadata": {
        "id": "Iah-ynqytRka",
        "colab_type": "text"
      },
      "source": [
        "(a) What is the wavelength ofthe waves, to the nearest meter?(Answer for waves with the minimum and maximum period, for this question and for b.-e. below)."
      ]
    },
    {
      "cell_type": "code",
      "metadata": {
        "id": "8A5YDLb1sxbd",
        "colab_type": "code",
        "colab": {
          "base_uri": "https://localhost:8080/",
          "height": 51
        },
        "outputId": "7e40ce3f-b27e-4cc2-c876-b77552222095"
      },
      "source": [
        "#We find the minimum and maximum wavelength from the dispersion relation\n",
        "minimum_period = 5\n",
        "maximum_period = 20\n",
        "minimum_wavelength = int(np.round(wavelength_given_period(period=minimum_period, depth=None)))\n",
        "maximum_wavelength = int(np.round(wavelength_given_period(period=maximum_period, depth=None)))\n",
        "print(\"Minimum period in meters:\", minimum_wavelength)\n",
        "print(\"Maximum period in meters:\", maximum_wavelength)"
      ],
      "execution_count": 10,
      "outputs": [
        {
          "output_type": "stream",
          "text": [
            "Minimum period in meters: 39\n",
            "Maximum period in meters: 625\n"
          ],
          "name": "stdout"
        }
      ]
    },
    {
      "cell_type": "markdown",
      "metadata": {
        "id": "v9fcKcz5u2d2",
        "colab_type": "text"
      },
      "source": [
        "(b) Approximately how long does it take for the waves to propagate from where they were generated to Ocean Beach, to the nearest 0.1day?"
      ]
    },
    {
      "cell_type": "code",
      "metadata": {
        "id": "7y8MCWqpu1w6",
        "colab_type": "code",
        "colab": {
          "base_uri": "https://localhost:8080/",
          "height": 51
        },
        "outputId": "6429e7a5-f3c3-4ced-f910-629064769fab"
      },
      "source": [
        "#We know that longer period waves propagate faster.\n",
        "#The slowest waves will be the ones with the smallest period and wavelength\n",
        "slowest_wavespeed = minimum_wavelength/minimum_period\n",
        "fastest_wavespeed = maximum_wavelength/maximum_period\n",
        "slowest_time_in_days = (5000000/slowest_wavespeed)/(3600*24)\n",
        "fastest_time_in_days = (5000000/fastest_wavespeed)/(3600*24)\n",
        "print(\"For the slowest waves, time in days:\",np.round(slowest_time_in_days,1))\n",
        "print(\"For the fastest waves, time in days:\",np.round(fastest_time_in_days,1))"
      ],
      "execution_count": 12,
      "outputs": [
        {
          "output_type": "stream",
          "text": [
            "For the slowest waves, time in days: 7.4\n",
            "For the fastest waves, time in days: 1.9\n"
          ],
          "name": "stdout"
        }
      ]
    },
    {
      "cell_type": "markdown",
      "metadata": {
        "id": "0FleywRNwBDA",
        "colab_type": "text"
      },
      "source": [
        "(c) At what depth, to the nearest meter, will the waves begin to “feel” the bottom (i.e. thedepth at which the waves are nolonger considered deep water waves)?"
      ]
    },
    {
      "cell_type": "code",
      "metadata": {
        "id": "x4alTrBJuGHR",
        "colab_type": "code",
        "colab": {
          "base_uri": "https://localhost:8080/",
          "height": 51
        },
        "outputId": "8f7fb3ae-0c1b-4049-9e84-3edea54854be"
      },
      "source": [
        "#The criterion for deep water waves is d > L/2\n",
        "# therefore, we solve for d = L/2\n",
        "shallowest_depth = minimum_wavelength/2\n",
        "deepest_depth = maximum_wavelength/2\n",
        "print(\"For the shortest period (shortest wavelength) waves, they will feel the bottom at a depth in m of\",int(np.round(shallowest_depth)))\n",
        "print(\"For the longest period (longest wavelength) waves, they will feel the bottom at a depth in m of\",int(np.round(deepest_depth)))"
      ],
      "execution_count": 15,
      "outputs": [
        {
          "output_type": "stream",
          "text": [
            "For the shortest period (shortest wavelength) waves, they will feel the bottom at a depth in m of 20\n",
            "For the longest period (longest wavelength) waves, they will feel the bottom at a depth in m of 312\n"
          ],
          "name": "stdout"
        }
      ]
    },
    {
      "cell_type": "markdown",
      "metadata": {
        "id": "2t9xmc0IyNGl",
        "colab_type": "text"
      },
      "source": [
        "(d) What are the maximum bottom currents due to the waves in water that is 10m deep? Assume the frequencyand height do not change as the waves shoal."
      ]
    },
    {
      "cell_type": "code",
      "metadata": {
        "id": "tVrQr6r2wzDK",
        "colab_type": "code",
        "colab": {
          "base_uri": "https://localhost:8080/",
          "height": 51
        },
        "outputId": "53459652-3da6-426f-df6a-a0aa2fc0bbb0"
      },
      "source": [
        "#I assume \"maximum bottom currents\" refers to the horizontal component of the orbital velocity.\n",
        "#Using the formula u = pi*H/T cosh(k(z+d))/sinh(kd) cos(kx - omega*t)\n",
        "#At the bottom, z = -d, so this becomes:\n",
        "# u = pi*H/T cosh(0)/sinh(kd) cos(kx - omega*t)\n",
        "#cosh(0) = 1, so this becomes:\n",
        "# u = pi*H/T 1/sinh(kd) cos(kx - omega*t)\n",
        "#The maximum value of cos(kx - omega*t) is 1, so this becomes:\n",
        "# u = pi*H/T 1/sinh(kd)\n",
        "#We had H = 1m and d=10m.\n",
        "\n",
        "shortestperiod_wavenumber = 2*np.pi/minimum_wavelength\n",
        "longestperiod_wavenumber = 2*np.pi/maximum_wavelength\n",
        "\n",
        "shortest_period_current = (np.pi*1/(minimum_period))*(1/np.sinh(shortestperiod_wavenumber*10))\n",
        "longest_period_current = (np.pi*1/(maximum_period))*(1/np.sinh(longestperiod_wavenumber*10))\n",
        "print(\"Currents due to the waves with the shortest period in m/s\", shortest_period_current)\n",
        "print(\"Currents due to the waves with the longest period in m/s\", longest_period_current)"
      ],
      "execution_count": 16,
      "outputs": [
        {
          "output_type": "stream",
          "text": [
            "Currents due to the waves with the shortest period in m/s 0.2613360777876058\n",
            "Currents due to the waves with the longest period in m/s 1.5598712054266775\n"
          ],
          "name": "stdout"
        }
      ]
    },
    {
      "cell_type": "markdown",
      "metadata": {
        "id": "Hza0JT6E5mgu",
        "colab_type": "text"
      },
      "source": [
        "(e) Sketch the orbitals for each waveat a depth of 1 m below the water surface, when the water depth is 10m (same as part d).Indicate the velocity vectors (u, w) and accelerations (du/dt and dw/dt) at wt=0, p/2, p, 3p/2.You do notneed to calculate the magnitudes –just indicate the directions."
      ]
    },
    {
      "cell_type": "markdown",
      "metadata": {
        "id": "YXoXytCJ45PJ",
        "colab_type": "text"
      },
      "source": [
        "![wave orbitals](https://drive.google.com/uc?export=view&id=1OCcxjLVevoK29Tl8ZiPSeIaJHcbbwI76)"
      ]
    },
    {
      "cell_type": "markdown",
      "metadata": {
        "id": "JiqRtPi350Id",
        "colab_type": "text"
      },
      "source": [
        "(2) The 2011 tsunami generated off the coast of Japancaused some damage on the US west coast, especially in Crescent Cityin Northern California, where aharbor was destroyed.Assuming a constant depth of 3600 m in the Pacific Ocean, what is the fastest possible wave speed for thetsunamiin this depth, and how long didthis tsunamitake to travel the 8600km across the Pacific to get to California, to the nearest 0.1 hr? "
      ]
    },
    {
      "cell_type": "code",
      "metadata": {
        "id": "hifAOrum5BOw",
        "colab_type": "code",
        "colab": {
          "base_uri": "https://localhost:8080/",
          "height": 51
        },
        "outputId": "3057941a-0323-453c-fb94-7b24df8759a6"
      },
      "source": [
        "#The fastest wave speed is given by assuming the longwave (shallow water) criterion, i.e. kd << 1. \n",
        "# This is sqrt(gd)\n",
        "longwave_speed = np.sqrt(9.81*3600)\n",
        "print(\"Fastest (longwave) speed:\",longwave_speed)\n",
        "print(\"Time taken in hrs\",np.round((8600000/longwave_speed)/3600,1))"
      ],
      "execution_count": 19,
      "outputs": [
        {
          "output_type": "stream",
          "text": [
            "Fastest (longwave) speed: 187.92551716038992\n",
            "Time taken in hrs 12.7\n"
          ],
          "name": "stdout"
        }
      ]
    },
    {
      "cell_type": "markdown",
      "metadata": {
        "id": "vVK5q9GC78uw",
        "colab_type": "text"
      },
      "source": [
        "(3) Suppose you have a pressure sensor that can measure a minimum pressure perturbationof 10 Pa.  What is the minimum period T ofa wave with a height of H=1 m that this pressure sensor can measure at the bottom in water of depth d=10 m?"
      ]
    },
    {
      "cell_type": "code",
      "metadata": {
        "id": "8apR9KY-7j8s",
        "colab_type": "code",
        "colab": {
          "base_uri": "https://localhost:8080/",
          "height": 34
        },
        "outputId": "3d8f0b9d-69eb-4831-a4cb-f9ddcd8fc57d"
      },
      "source": [
        "#Pressure response factor = Kp = cosh(k(z+d))/cosh(kd)\n",
        "# At the bottom, z=-d and Kp = 1/cosh(kd)\n",
        "#The pressure at the bottom is rho*g*(depth*Kp*eta)\n",
        "#The maximum value of eta is H/2 = 0.5m\n",
        "#Solving for 10Pa, we have 10Pa = rho*g*(10*0.5*(1/cosh(kd)))\n",
        "#The density of water is about 1000kg/m3\n",
        "#This gives cosh(kd) = (1000*9.81)/(10)\n",
        "\n",
        "def get_period_from_depth(depth):\n",
        "  kd = np.arccosh((1000*9.81)/(10))\n",
        "  k = kd/depth\n",
        "  omega = np.sqrt((9.81)*k*np.tanh(kd))\n",
        "  period = 2*np.pi/omega\n",
        "  return period\n",
        "\n",
        "depth=10 #depth is 10m\n",
        "print(\"The minimum period in seconds is\", get_period_from_depth(depth))"
      ],
      "execution_count": 24,
      "outputs": [
        {
          "output_type": "stream",
          "text": [
            "The minimum period in seconds is 2.3038893887806005\n"
          ],
          "name": "stdout"
        }
      ]
    },
    {
      "cell_type": "markdown",
      "metadata": {
        "id": "39S7xRdY-lmc",
        "colab_type": "text"
      },
      "source": [
        "Use Matlab to plot the period as a function of depthd. Why does the period increase with increasing depth?"
      ]
    },
    {
      "cell_type": "code",
      "metadata": {
        "id": "zTKSo-y796fk",
        "colab_type": "code",
        "colab": {
          "base_uri": "https://localhost:8080/",
          "height": 337
        },
        "outputId": "4f2c2f79-a3d9-493e-dd3f-4d8d512efa18"
      },
      "source": [
        "#The period increase with depth because longer period waves have\n",
        "# more power, and the deeper the bottom, the more power the\n",
        "# wave must have to be felt at the bottom\n",
        "\n",
        "depths = np.arange(100)\n",
        "periods = [get_period_from_depth(x) for x in depths]\n",
        "%matplotlib inline\n",
        "from matplotlib import pyplot as plt\n",
        "plt.plot(depths, periods)\n",
        "plt.xlabel(\"Depth in m\")\n",
        "plt.ylabel(\"period in seconds\")\n",
        "plt.show()"
      ],
      "execution_count": 29,
      "outputs": [
        {
          "output_type": "stream",
          "text": [
            "/usr/local/lib/python3.6/dist-packages/ipykernel_launcher.py:4: RuntimeWarning: divide by zero encountered in double_scalars\n",
            "  after removing the cwd from sys.path.\n"
          ],
          "name": "stderr"
        },
        {
          "output_type": "display_data",
          "data": {
            "image/png": "[encoded data removed]",
            "text/plain": [
              "<Figure size 432x288 with 1 Axes>"
            ]
          },
          "metadata": {
            "tags": []
          }
        }
      ]
    },
    {
      "cell_type": "code",
      "metadata": {
        "id": "xUvEaLi5_OD5",
        "colab_type": "code",
        "colab": {}
      },
      "source": [
        ""
      ],
      "execution_count": 0,
      "outputs": []
    }
  ]
}