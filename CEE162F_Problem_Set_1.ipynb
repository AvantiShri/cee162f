{
  "nbformat": 4,
  "nbformat_minor": 0,
  "metadata": {
    "colab": {
      "name": "CEE162F Problem Set 1.ipynb",
      "provenance": [],
      "include_colab_link": true
    },
    "kernelspec": {
      "name": "python3",
      "display_name": "Python 3"
    }
  },
  "cells": [
    {
      "cell_type": "markdown",
      "metadata": {
        "id": "view-in-github",
        "colab_type": "text"
      },
      "source": [
        "<a href=\"https://colab.research.google.com/github/AvantiShri/cee162f/blob/master/CEE162F_Problem_Set_1.ipynb\" target=\"_parent\"><img src=\"https://colab.research.google.com/assets/colab-badge.svg\" alt=\"Open In Colab\"/></a>"
      ]
    },
    {
      "cell_type": "markdown",
      "metadata": {
        "id": "YVLQZARvRaNP",
        "colab_type": "text"
      },
      "source": [
        "In the cells below, I will define various utility functions needed for answering the problems set questions, such as the dispersion relation"
      ]
    },
    {
      "cell_type": "code",
      "metadata": {
        "id": "ze6cGE_vRe9G",
        "colab_type": "code",
        "colab": {}
      },
      "source": [
        "import numpy as np\n",
        "import scipy.optimize\n",
        "\n",
        "def dispersion_relation(omega, depth):\n",
        "    #Gravity (in m/s^2)\n",
        "    GRAVITY = 9.81;\n",
        "    #Initial guess is the deep water relation\n",
        "    k0 = (omega**2)/GRAVITY;\n",
        "    if (depth==None):\n",
        "        return k0\n",
        "    else:\n",
        "        def func_to_solve(x):\n",
        "            return omega**2 - GRAVITY*x*np.tanh(x*depth)\n",
        "        def fprime(x):\n",
        "            return -GRAVITY*np.tanh(x*depth)-GRAVITY*x*(1-(np.tanh(x*depth)**2))\n",
        "         \n",
        "    return scipy.optimize.fsolve(func=func_to_solve,\n",
        "                                 x0=k0,\n",
        "                                 fprime=fprime)"
      ],
      "execution_count": 0,
      "outputs": []
    },
    {
      "cell_type": "code",
      "metadata": {
        "id": "1lspWBKZXv1F",
        "colab_type": "code",
        "colab": {
          "base_uri": "https://localhost:8080/",
          "height": 34
        },
        "outputId": "bf76288d-9df9-4d72-819a-bd24158274c1"
      },
      "source": [
        "dispersion_relation(1, 100)"
      ],
      "execution_count": 9,
      "outputs": [
        {
          "output_type": "execute_result",
          "data": {
            "text/plain": [
              "array([0.1019368])"
            ]
          },
          "metadata": {
            "tags": []
          },
          "execution_count": 9
        }
      ]
    },
    {
      "cell_type": "code",
      "metadata": {
        "id": "1TPjIrXoYH9T",
        "colab_type": "code",
        "colab": {
          "base_uri": "https://localhost:8080/",
          "height": 34
        },
        "outputId": "528cd426-2a61-4074-f8fb-ce884f926d0e"
      },
      "source": [
        "1 - 9.81*0.1019368*np.tanh(0.1019368*100)"
      ],
      "execution_count": 11,
      "outputs": [
        {
          "output_type": "execute_result",
          "data": {
            "text/plain": [
              "-5.201585384639884e-09"
            ]
          },
          "metadata": {
            "tags": []
          },
          "execution_count": 11
        }
      ]
    },
    {
      "cell_type": "code",
      "metadata": {
        "id": "gfJJEKEqYTSq",
        "colab_type": "code",
        "colab": {}
      },
      "source": [
        ""
      ],
      "execution_count": 0,
      "outputs": []
    }
  ]
}